{
 "cells": [
  {
   "cell_type": "markdown",
   "metadata": {},
   "source": [
    "# Dropping a ball\n",
    "Written by Tim Atherton for Computational Physics \n",
    "January 2021\n",
    "\n",
    "This program aims to simulate the motion of a ball dropped from an initial height of $y0$ under gravity $g$ using the Euler discretization."
   ]
  },
  {
   "cell_type": "markdown",
   "metadata": {},
   "source": [
    "Import libraries for plotting and numerical work"
   ]
  },
  {
   "cell_type": "code",
   "execution_count": 1,
   "metadata": {},
   "outputs": [],
   "source": [
    "import matplotlib.pyplot as plt\n",
    "import numpy as np"
   ]
  },
  {
   "cell_type": "markdown",
   "metadata": {},
   "source": [
    "Set up parameters for the calculation"
   ]
  },
  {
   "cell_type": "code",
   "execution_count": 3,
   "metadata": {},
   "outputs": [],
   "source": [
    "g=10 #Gravity constant in (metres per second sq.)\n",
    "\n",
    "y0=0 #Initial Height (in metres) Positive means upwards\n",
    "v0=0 #Initial Velocity (in metres per second)\n",
    "t0=0 #Initial Time (in s)\n",
    "\n",
    "dt=0.1 #Time resolution\n",
    "tf=10 #Total time to simulate\n",
    "\n",
    "nsteps=int(tf/dt)+1 #note that we take the integer part"
   ]
  },
  {
   "cell_type": "markdown",
   "metadata": {},
   "source": [
    "Create arrays for time, velocity and position"
   ]
  },
  {
   "cell_type": "code",
   "execution_count": 4,
   "metadata": {},
   "outputs": [],
   "source": [
    "t = np.linspace(t0,tf,nsteps)\n",
    "v = np.zeros([nsteps])\n",
    "y = np.zeros([nsteps])"
   ]
  },
  {
   "cell_type": "markdown",
   "metadata": {},
   "source": [
    "Main loop, where we successively update velocity and time according to the Euler rule"
   ]
  },
  {
   "cell_type": "code",
   "execution_count": 5,
   "metadata": {},
   "outputs": [],
   "source": [
    "y[0]=y0\n",
    "v[0]=v0\n",
    "for i in range(0,nsteps-1):\n",
    "    v[i+1]=v[i]\n",
    "    y[i+1]=y[i]"
   ]
  },
  {
   "cell_type": "markdown",
   "metadata": {},
   "source": [
    "Visualize the result"
   ]
  },
  {
   "cell_type": "code",
   "execution_count": 6,
   "metadata": {},
   "outputs": [
    {
     "data": {
      "image/png": "[encoded data removed]",
      "text/plain": [
       "<Figure size 432x288 with 1 Axes>"
      ]
     },
     "metadata": {
      "needs_background": "light"
     },
     "output_type": "display_data"
    }
   ],
   "source": [
    "plt.plot(t,y)\n",
    "plt.title('Trajectory of the ball without drag')\n",
    "plt.xlabel('Time /s')\n",
    "plt.ylabel('Height /m')\n",
    "plt.show()"
   ]
  },
  {
   "cell_type": "code",
   "execution_count": null,
   "metadata": {},
   "outputs": [],
   "source": []
  }
 ],
 "metadata": {
  "kernelspec": {
   "display_name": "base",
   "language": "python",
   "name": "python3"
  },
  "language_info": {
   "codemirror_mode": {
    "name": "ipython",
    "version": 3
   },
   "file_extension": ".py",
   "mimetype": "text/x-python",
   "name": "python",
   "nbconvert_exporter": "python",
   "pygments_lexer": "ipython3",
   "version": "3.9.12 (main, Apr  4 2022, 05:22:27) [MSC v.1916 64 bit (AMD64)]"
  },
  "vscode": {
   "interpreter": {
    "hash": "0c223d57c7189d54549835f7c8303e9ddeb2644bc2548f67a90629b42846d118"
   }
  }
 },
 "nbformat": 4,
 "nbformat_minor": 2
}
